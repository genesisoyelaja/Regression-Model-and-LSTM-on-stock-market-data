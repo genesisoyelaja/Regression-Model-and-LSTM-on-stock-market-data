{
  "nbformat": 4,
  "nbformat_minor": 0,
  "metadata": {
    "colab": {
      "name": "LSTM MODEL FOR DISSERTATION",
      "provenance": [],
      "collapsed_sections": []
    },
    "kernelspec": {
      "display_name": "Python 3",
      "name": "python3"
    }
  },
  "cells": [
    {
      "cell_type": "code",
      "metadata": {
        "id": "zP2sasmupFhV"
      },
      "source": [
        "#importing libraries \n",
        "import pandas as pd\n",
        "import matplotlib.pyplot as plt\n",
        "import numpy\n",
        "import matplotlib.pyplot as plt\n",
        "import pandas\n",
        "import math\n",
        "from keras.models import Sequential\n",
        "from keras.layers import Dense\n",
        "from keras.layers import LSTM\n",
        "from sklearn.preprocessing import MinMaxScaler\n",
        "from sklearn.metrics import mean_squared_error,mean_absolute_error\n",
        "from sklearn.metrics import r2_score"
      ],
      "execution_count": null,
      "outputs": []
    },
    {
      "cell_type": "code",
      "metadata": {
        "colab": {
          "base_uri": "https://localhost:8080/",
          "height": 327
        },
        "id": "X2R3kcbZpIs-",
        "outputId": "1f5deee6-0da1-429d-8c0c-f14f65b18782"
      },
      "source": [
        "#importing the dataset\n",
        "dataset = pd.read_csv('NIFTY50_all.csv', engine='python')\n",
        "dataset.head(5)"
      ],
      "execution_count": null,
      "outputs": [
        {
          "output_type": "execute_result",
          "data": {
            "text/html": [
              "<div>\n",
              "<style scoped>\n",
              "    .dataframe tbody tr th:only-of-type {\n",
              "        vertical-align: middle;\n",
              "    }\n",
              "\n",
              "    .dataframe tbody tr th {\n",
              "        vertical-align: top;\n",
              "    }\n",
              "\n",
              "    .dataframe thead th {\n",
              "        text-align: right;\n",
              "    }\n",
              "</style>\n",
              "<table border=\"1\" class=\"dataframe\">\n",
              "  <thead>\n",
              "    <tr style=\"text-align: right;\">\n",
              "      <th></th>\n",
              "      <th>Date</th>\n",
              "      <th>Symbol</th>\n",
              "      <th>Series</th>\n",
              "      <th>Prev Close</th>\n",
              "      <th>Open</th>\n",
              "      <th>High</th>\n",
              "      <th>Low</th>\n",
              "      <th>Last</th>\n",
              "      <th>Close</th>\n",
              "      <th>VWAP</th>\n",
              "      <th>Volume</th>\n",
              "      <th>Turnover</th>\n",
              "      <th>Trades</th>\n",
              "      <th>Deliverable Volume</th>\n",
              "      <th>%Deliverble</th>\n",
              "    </tr>\n",
              "  </thead>\n",
              "  <tbody>\n",
              "    <tr>\n",
              "      <th>0</th>\n",
              "      <td>2007-11-27</td>\n",
              "      <td>MUNDRAPORT</td>\n",
              "      <td>EQ</td>\n",
              "      <td>440.00</td>\n",
              "      <td>770.00</td>\n",
              "      <td>1050.00</td>\n",
              "      <td>770.0</td>\n",
              "      <td>959.0</td>\n",
              "      <td>962.90</td>\n",
              "      <td>984.72</td>\n",
              "      <td>27294366</td>\n",
              "      <td>2.687719e+15</td>\n",
              "      <td>NaN</td>\n",
              "      <td>9859619.0</td>\n",
              "      <td>0.3612</td>\n",
              "    </tr>\n",
              "    <tr>\n",
              "      <th>1</th>\n",
              "      <td>2007-11-28</td>\n",
              "      <td>MUNDRAPORT</td>\n",
              "      <td>EQ</td>\n",
              "      <td>962.90</td>\n",
              "      <td>984.00</td>\n",
              "      <td>990.00</td>\n",
              "      <td>874.0</td>\n",
              "      <td>885.0</td>\n",
              "      <td>893.90</td>\n",
              "      <td>941.38</td>\n",
              "      <td>4581338</td>\n",
              "      <td>4.312765e+14</td>\n",
              "      <td>NaN</td>\n",
              "      <td>1453278.0</td>\n",
              "      <td>0.3172</td>\n",
              "    </tr>\n",
              "    <tr>\n",
              "      <th>2</th>\n",
              "      <td>2007-11-29</td>\n",
              "      <td>MUNDRAPORT</td>\n",
              "      <td>EQ</td>\n",
              "      <td>893.90</td>\n",
              "      <td>909.00</td>\n",
              "      <td>914.75</td>\n",
              "      <td>841.0</td>\n",
              "      <td>887.0</td>\n",
              "      <td>884.20</td>\n",
              "      <td>888.09</td>\n",
              "      <td>5124121</td>\n",
              "      <td>4.550658e+14</td>\n",
              "      <td>NaN</td>\n",
              "      <td>1069678.0</td>\n",
              "      <td>0.2088</td>\n",
              "    </tr>\n",
              "    <tr>\n",
              "      <th>3</th>\n",
              "      <td>2007-11-30</td>\n",
              "      <td>MUNDRAPORT</td>\n",
              "      <td>EQ</td>\n",
              "      <td>884.20</td>\n",
              "      <td>890.00</td>\n",
              "      <td>958.00</td>\n",
              "      <td>890.0</td>\n",
              "      <td>929.0</td>\n",
              "      <td>921.55</td>\n",
              "      <td>929.17</td>\n",
              "      <td>4609762</td>\n",
              "      <td>4.283257e+14</td>\n",
              "      <td>NaN</td>\n",
              "      <td>1260913.0</td>\n",
              "      <td>0.2735</td>\n",
              "    </tr>\n",
              "    <tr>\n",
              "      <th>4</th>\n",
              "      <td>2007-12-03</td>\n",
              "      <td>MUNDRAPORT</td>\n",
              "      <td>EQ</td>\n",
              "      <td>921.55</td>\n",
              "      <td>939.75</td>\n",
              "      <td>995.00</td>\n",
              "      <td>922.0</td>\n",
              "      <td>980.0</td>\n",
              "      <td>969.30</td>\n",
              "      <td>965.65</td>\n",
              "      <td>2977470</td>\n",
              "      <td>2.875200e+14</td>\n",
              "      <td>NaN</td>\n",
              "      <td>816123.0</td>\n",
              "      <td>0.2741</td>\n",
              "    </tr>\n",
              "  </tbody>\n",
              "</table>\n",
              "</div>"
            ],
            "text/plain": [
              "         Date      Symbol Series  ...  Trades  Deliverable Volume  %Deliverble\n",
              "0  2007-11-27  MUNDRAPORT     EQ  ...     NaN           9859619.0       0.3612\n",
              "1  2007-11-28  MUNDRAPORT     EQ  ...     NaN           1453278.0       0.3172\n",
              "2  2007-11-29  MUNDRAPORT     EQ  ...     NaN           1069678.0       0.2088\n",
              "3  2007-11-30  MUNDRAPORT     EQ  ...     NaN           1260913.0       0.2735\n",
              "4  2007-12-03  MUNDRAPORT     EQ  ...     NaN            816123.0       0.2741\n",
              "\n",
              "[5 rows x 15 columns]"
            ]
          },
          "metadata": {},
          "execution_count": 48
        }
      ]
    },
    {
      "cell_type": "code",
      "metadata": {
        "id": "SOsHtWI0y4JK"
      },
      "source": [
        "#selecting time period range\n",
        "dataset = dataset[(dataset.Date >'1999-12-31')]\n"
      ],
      "execution_count": null,
      "outputs": []
    },
    {
      "cell_type": "code",
      "metadata": {
        "colab": {
          "base_uri": "https://localhost:8080/"
        },
        "id": "y1N6PRYr70Qo",
        "outputId": "f95d3d5b-ce97-409b-eedc-a355f1a589b8"
      },
      "source": [
        "# viewing dataset shape count of rows and columns\n",
        "dataset.shape"
      ],
      "execution_count": null,
      "outputs": [
        {
          "output_type": "execute_result",
          "data": {
            "text/plain": [
              "(235192, 15)"
            ]
          },
          "metadata": {},
          "execution_count": 50
        }
      ]
    },
    {
      "cell_type": "code",
      "metadata": {
        "colab": {
          "base_uri": "https://localhost:8080/",
          "height": 412
        },
        "id": "5d1tvpGuyah1",
        "outputId": "515d22b2-ab69-4da3-b47f-e5f0e2bd6d29"
      },
      "source": [
        "#dropping null values in dataset\n",
        "dataset=dataset.dropna()\n",
        "dataset.head(5)"
      ],
      "execution_count": null,
      "outputs": [
        {
          "output_type": "execute_result",
          "data": {
            "text/html": [
              "<div>\n",
              "<style scoped>\n",
              "    .dataframe tbody tr th:only-of-type {\n",
              "        vertical-align: middle;\n",
              "    }\n",
              "\n",
              "    .dataframe tbody tr th {\n",
              "        vertical-align: top;\n",
              "    }\n",
              "\n",
              "    .dataframe thead th {\n",
              "        text-align: right;\n",
              "    }\n",
              "</style>\n",
              "<table border=\"1\" class=\"dataframe\">\n",
              "  <thead>\n",
              "    <tr style=\"text-align: right;\">\n",
              "      <th></th>\n",
              "      <th>Date</th>\n",
              "      <th>Symbol</th>\n",
              "      <th>Series</th>\n",
              "      <th>Prev Close</th>\n",
              "      <th>Open</th>\n",
              "      <th>High</th>\n",
              "      <th>Low</th>\n",
              "      <th>Last</th>\n",
              "      <th>Close</th>\n",
              "      <th>VWAP</th>\n",
              "      <th>Volume</th>\n",
              "      <th>Turnover</th>\n",
              "      <th>Trades</th>\n",
              "      <th>Deliverable Volume</th>\n",
              "      <th>%Deliverble</th>\n",
              "    </tr>\n",
              "  </thead>\n",
              "  <tbody>\n",
              "    <tr>\n",
              "      <th>866</th>\n",
              "      <td>2011-06-01</td>\n",
              "      <td>MUNDRAPORT</td>\n",
              "      <td>EQ</td>\n",
              "      <td>161.45</td>\n",
              "      <td>162.10</td>\n",
              "      <td>165.70</td>\n",
              "      <td>161.25</td>\n",
              "      <td>163.50</td>\n",
              "      <td>164.00</td>\n",
              "      <td>164.08</td>\n",
              "      <td>2574106</td>\n",
              "      <td>4.223703e+13</td>\n",
              "      <td>19171.0</td>\n",
              "      <td>1271255.0</td>\n",
              "      <td>0.4939</td>\n",
              "    </tr>\n",
              "    <tr>\n",
              "      <th>867</th>\n",
              "      <td>2011-06-02</td>\n",
              "      <td>MUNDRAPORT</td>\n",
              "      <td>EQ</td>\n",
              "      <td>164.00</td>\n",
              "      <td>164.00</td>\n",
              "      <td>165.15</td>\n",
              "      <td>160.15</td>\n",
              "      <td>161.15</td>\n",
              "      <td>161.25</td>\n",
              "      <td>162.17</td>\n",
              "      <td>1699298</td>\n",
              "      <td>2.755678e+13</td>\n",
              "      <td>16176.0</td>\n",
              "      <td>791462.0</td>\n",
              "      <td>0.4658</td>\n",
              "    </tr>\n",
              "    <tr>\n",
              "      <th>868</th>\n",
              "      <td>2011-06-03</td>\n",
              "      <td>MUNDRAPORT</td>\n",
              "      <td>EQ</td>\n",
              "      <td>161.25</td>\n",
              "      <td>161.50</td>\n",
              "      <td>162.80</td>\n",
              "      <td>159.20</td>\n",
              "      <td>161.00</td>\n",
              "      <td>161.05</td>\n",
              "      <td>161.02</td>\n",
              "      <td>1185817</td>\n",
              "      <td>1.909361e+13</td>\n",
              "      <td>14810.0</td>\n",
              "      <td>722154.0</td>\n",
              "      <td>0.6090</td>\n",
              "    </tr>\n",
              "    <tr>\n",
              "      <th>869</th>\n",
              "      <td>2011-06-06</td>\n",
              "      <td>MUNDRAPORT</td>\n",
              "      <td>EQ</td>\n",
              "      <td>161.05</td>\n",
              "      <td>160.50</td>\n",
              "      <td>161.10</td>\n",
              "      <td>159.05</td>\n",
              "      <td>160.00</td>\n",
              "      <td>159.85</td>\n",
              "      <td>160.09</td>\n",
              "      <td>546378</td>\n",
              "      <td>8.746905e+12</td>\n",
              "      <td>7071.0</td>\n",
              "      <td>386144.0</td>\n",
              "      <td>0.7067</td>\n",
              "    </tr>\n",
              "    <tr>\n",
              "      <th>870</th>\n",
              "      <td>2011-06-07</td>\n",
              "      <td>MUNDRAPORT</td>\n",
              "      <td>EQ</td>\n",
              "      <td>159.85</td>\n",
              "      <td>159.85</td>\n",
              "      <td>162.75</td>\n",
              "      <td>156.35</td>\n",
              "      <td>157.00</td>\n",
              "      <td>157.25</td>\n",
              "      <td>158.52</td>\n",
              "      <td>2193466</td>\n",
              "      <td>3.477027e+13</td>\n",
              "      <td>17865.0</td>\n",
              "      <td>1425849.0</td>\n",
              "      <td>0.6500</td>\n",
              "    </tr>\n",
              "  </tbody>\n",
              "</table>\n",
              "</div>"
            ],
            "text/plain": [
              "           Date      Symbol Series  ...   Trades  Deliverable Volume  %Deliverble\n",
              "866  2011-06-01  MUNDRAPORT     EQ  ...  19171.0           1271255.0       0.4939\n",
              "867  2011-06-02  MUNDRAPORT     EQ  ...  16176.0            791462.0       0.4658\n",
              "868  2011-06-03  MUNDRAPORT     EQ  ...  14810.0            722154.0       0.6090\n",
              "869  2011-06-06  MUNDRAPORT     EQ  ...   7071.0            386144.0       0.7067\n",
              "870  2011-06-07  MUNDRAPORT     EQ  ...  17865.0           1425849.0       0.6500\n",
              "\n",
              "[5 rows x 15 columns]"
            ]
          },
          "metadata": {},
          "execution_count": 51
        }
      ]
    },
    {
      "cell_type": "code",
      "metadata": {
        "colab": {
          "base_uri": "https://localhost:8080/"
        },
        "id": "YWB7MgQLyapo",
        "outputId": "6d51d704-ecce-4282-dad2-56f7f264d1f7"
      },
      "source": [
        "#validation null values have been dropped\n",
        "dataset.isnull().sum().sum()"
      ],
      "execution_count": null,
      "outputs": [
        {
          "output_type": "execute_result",
          "data": {
            "text/plain": [
              "0"
            ]
          },
          "metadata": {},
          "execution_count": 52
        }
      ]
    },
    {
      "cell_type": "code",
      "metadata": {
        "id": "Ry6Yec45yas2"
      },
      "source": [
        "#factorizing symbol column\n",
        "dataset['Symbol']=pd.factorize(dataset.Symbol)[0]"
      ],
      "execution_count": null,
      "outputs": []
    },
    {
      "cell_type": "code",
      "metadata": {
        "colab": {
          "base_uri": "https://localhost:8080/",
          "height": 216
        },
        "id": "XJCTOZsayav3",
        "outputId": "f88ffa6f-f591-49d0-85f3-7e4fe26f0125"
      },
      "source": [
        "#dropping of column from dataset\n",
        "dataset1=dataset.drop('Series',1)\n",
        "dataset1.head(2)"
      ],
      "execution_count": null,
      "outputs": [
        {
          "output_type": "execute_result",
          "data": {
            "text/html": [
              "<div>\n",
              "<style scoped>\n",
              "    .dataframe tbody tr th:only-of-type {\n",
              "        vertical-align: middle;\n",
              "    }\n",
              "\n",
              "    .dataframe tbody tr th {\n",
              "        vertical-align: top;\n",
              "    }\n",
              "\n",
              "    .dataframe thead th {\n",
              "        text-align: right;\n",
              "    }\n",
              "</style>\n",
              "<table border=\"1\" class=\"dataframe\">\n",
              "  <thead>\n",
              "    <tr style=\"text-align: right;\">\n",
              "      <th></th>\n",
              "      <th>Date</th>\n",
              "      <th>Symbol</th>\n",
              "      <th>Prev Close</th>\n",
              "      <th>Open</th>\n",
              "      <th>High</th>\n",
              "      <th>Low</th>\n",
              "      <th>Last</th>\n",
              "      <th>Close</th>\n",
              "      <th>VWAP</th>\n",
              "      <th>Volume</th>\n",
              "      <th>Turnover</th>\n",
              "      <th>Trades</th>\n",
              "      <th>Deliverable Volume</th>\n",
              "      <th>%Deliverble</th>\n",
              "    </tr>\n",
              "  </thead>\n",
              "  <tbody>\n",
              "    <tr>\n",
              "      <th>866</th>\n",
              "      <td>2011-06-01</td>\n",
              "      <td>0</td>\n",
              "      <td>161.45</td>\n",
              "      <td>162.1</td>\n",
              "      <td>165.70</td>\n",
              "      <td>161.25</td>\n",
              "      <td>163.50</td>\n",
              "      <td>164.00</td>\n",
              "      <td>164.08</td>\n",
              "      <td>2574106</td>\n",
              "      <td>4.223703e+13</td>\n",
              "      <td>19171.0</td>\n",
              "      <td>1271255.0</td>\n",
              "      <td>0.4939</td>\n",
              "    </tr>\n",
              "    <tr>\n",
              "      <th>867</th>\n",
              "      <td>2011-06-02</td>\n",
              "      <td>0</td>\n",
              "      <td>164.00</td>\n",
              "      <td>164.0</td>\n",
              "      <td>165.15</td>\n",
              "      <td>160.15</td>\n",
              "      <td>161.15</td>\n",
              "      <td>161.25</td>\n",
              "      <td>162.17</td>\n",
              "      <td>1699298</td>\n",
              "      <td>2.755678e+13</td>\n",
              "      <td>16176.0</td>\n",
              "      <td>791462.0</td>\n",
              "      <td>0.4658</td>\n",
              "    </tr>\n",
              "  </tbody>\n",
              "</table>\n",
              "</div>"
            ],
            "text/plain": [
              "           Date  Symbol  Prev Close  ...   Trades  Deliverable Volume  %Deliverble\n",
              "866  2011-06-01       0      161.45  ...  19171.0           1271255.0       0.4939\n",
              "867  2011-06-02       0      164.00  ...  16176.0            791462.0       0.4658\n",
              "\n",
              "[2 rows x 14 columns]"
            ]
          },
          "metadata": {},
          "execution_count": 54
        }
      ]
    },
    {
      "cell_type": "code",
      "metadata": {
        "id": "I_2D0KoxxK29"
      },
      "source": [
        "#identifying and selecting our x and y variables from dataset\n",
        "y=dataset1.iloc[:,dataset1.columns=='Volume'].values\n",
        "x=dataset1.iloc[:,dataset1.columns!='Volume'].values\n"
      ],
      "execution_count": null,
      "outputs": []
    },
    {
      "cell_type": "code",
      "metadata": {
        "colab": {
          "base_uri": "https://localhost:8080/"
        },
        "id": "vZ5m_YeLxa2C",
        "outputId": "a7e167a8-7da4-4c72-9b8b-f142805724ee"
      },
      "source": [
        "# normalize the dataset\n",
        "scaler = MinMaxScaler(feature_range=(0, 1))\n",
        "y = scaler.fit_transform(y)\n",
        "y"
      ],
      "execution_count": null,
      "outputs": [
        {
          "output_type": "execute_result",
          "data": {
            "text/plain": [
              "array([[0.00659043],\n",
              "       [0.00435065],\n",
              "       [0.00303598],\n",
              "       ...,\n",
              "       [0.02158189],\n",
              "       [0.02427935],\n",
              "       [0.02927778]])"
            ]
          },
          "metadata": {},
          "execution_count": 56
        }
      ]
    },
    {
      "cell_type": "code",
      "metadata": {
        "colab": {
          "base_uri": "https://localhost:8080/"
        },
        "id": "xMGM33QXxa40",
        "outputId": "cb32abac-ee68-40c7-c106-34ef79f6ec01"
      },
      "source": [
        "\"\"\"With time series data, the sequence of values is important. A simple method that we can use is to split the ordered dataset into train and test datasets. The code below calculates the index of the split point and separates the data into the training datasets with 67% of the observations that we can use to train our model, leaving the remaining 33% for testing the model.\"\"\"\n",
        "\n",
        "# split into train and test sets\n",
        "train_size = int(len(y) * 0.70)\n",
        "test_size = len(y) - train_size\n",
        "train, test = y[0:train_size,:], y[train_size:len(y),:]\n",
        "print(len(train), len(test))"
      ],
      "execution_count": null,
      "outputs": [
        {
          "output_type": "stream",
          "name": "stdout",
          "text": [
            "84240 36104\n"
          ]
        }
      ]
    },
    {
      "cell_type": "code",
      "metadata": {
        "id": "3LYMer0Zxa7K"
      },
      "source": [
        "\"\"\"The function takes two arguments: the dataset, which is a NumPy array that we want to convert into a dataset, and the look_back, which is the number of previous time steps to \n",
        "use as input variables to predict the next time period — in this case defaulted to 1.\n",
        "\n",
        "This default will create a dataset where X is the number of passengers at a given time (t) and Y is the number of passengers at the next time (t + 1).\n",
        "\n",
        "It can be configured, and we will by constructing a differently shaped dataset in the next section.\n",
        "\"\"\"\n",
        "\n",
        "# convert an array of values into a dataset matrix\n",
        "def create_dataset(y, look_back=1):\n",
        "\tdataX, dataY = [], []\n",
        "\tfor i in range(len(y)-look_back-1):\n",
        "\t\ta = y[i:(i+look_back), 0]\n",
        "\t\tdataX.append(a)\n",
        "\t\tdataY.append(y[i + look_back, 0])\n",
        "\treturn numpy.array(dataX), numpy.array(dataY)"
      ],
      "execution_count": null,
      "outputs": []
    },
    {
      "cell_type": "code",
      "metadata": {
        "id": "h7L83mVSxa9y"
      },
      "source": [
        "# reshape into X=t and Y=t+1\n",
        "look_back = 1\n",
        "trainX, trainY = create_dataset(train, look_back)\n",
        "testX, testY = create_dataset(test, look_back)"
      ],
      "execution_count": null,
      "outputs": []
    },
    {
      "cell_type": "code",
      "metadata": {
        "colab": {
          "base_uri": "https://localhost:8080/"
        },
        "id": "eZy3UOs6xbAU",
        "outputId": "76de40cd-d87d-4309-eae5-5a0a27aaf144"
      },
      "source": [
        "\"\"\"The LSTM network expects the input data (X) to be provided with a specific array structure in the form of: [samples, time steps, features].\n",
        "\n",
        "Currently, our data is in the form: [samples, features] and we are framing the problem as \n",
        "one time step for each sample. We can transform the prepared train and test input data into the expected structure using numpy.reshape() as follows:\n",
        "\"\"\"\n",
        "\n",
        "# reshape input to be [samples, time steps, features]\n",
        "import numpy as np\n",
        "trainX = np.reshape(trainX, (trainX.shape[0], 1, trainX.shape[1]))\n",
        "testX = np.reshape(testX, (testX.shape[0], 1, testX.shape[1]))\n",
        "trainX.shape\n"
      ],
      "execution_count": null,
      "outputs": [
        {
          "output_type": "execute_result",
          "data": {
            "text/plain": [
              "(84238, 1, 1)"
            ]
          },
          "metadata": {},
          "execution_count": 60
        }
      ]
    },
    {
      "cell_type": "code",
      "metadata": {
        "colab": {
          "base_uri": "https://localhost:8080/"
        },
        "id": "-obuszdsxbCy",
        "outputId": "0cbc75cf-f642-4a60-f825-2982ce5a939d"
      },
      "source": [
        "\"\"\"We are now ready to design and fit our LSTM network for this problem.\n",
        "The network has a visible layer with 1 input, a hidden layer with 4 LSTM blocks or neurons, and an output layer that makes a single value prediction. The default sigmoid activation function is used for the LSTM blocks. The network is trained for 100 epochs and a batch size of 1 is used.\n",
        "\"\"\"\n",
        "\n",
        "# create and fit the LSTM network\n",
        "model = Sequential()\n",
        "model.add(LSTM(4, input_shape=(1, look_back)))\n",
        "model.add(Dense(1))\n",
        "model.compile(loss='mean_squared_error', optimizer='adam')\n",
        "model.fit(trainX, trainY, epochs=20, batch_size=1, verbose=2)"
      ],
      "execution_count": null,
      "outputs": [
        {
          "output_type": "stream",
          "name": "stdout",
          "text": [
            "Epoch 1/20\n",
            "84238/84238 - 100s - loss: 1.7155e-04\n",
            "Epoch 2/20\n",
            "84238/84238 - 98s - loss: 1.5731e-04\n",
            "Epoch 3/20\n",
            "84238/84238 - 99s - loss: 1.5226e-04\n",
            "Epoch 4/20\n",
            "84238/84238 - 98s - loss: 1.5114e-04\n",
            "Epoch 5/20\n",
            "84238/84238 - 98s - loss: 1.5125e-04\n",
            "Epoch 6/20\n",
            "84238/84238 - 98s - loss: 1.5108e-04\n",
            "Epoch 7/20\n",
            "84238/84238 - 98s - loss: 1.5063e-04\n",
            "Epoch 8/20\n",
            "84238/84238 - 98s - loss: 1.5100e-04\n",
            "Epoch 9/20\n",
            "84238/84238 - 97s - loss: 1.5097e-04\n",
            "Epoch 10/20\n",
            "84238/84238 - 97s - loss: 1.5099e-04\n",
            "Epoch 11/20\n",
            "84238/84238 - 98s - loss: 1.5097e-04\n",
            "Epoch 12/20\n",
            "84238/84238 - 98s - loss: 1.5081e-04\n",
            "Epoch 13/20\n",
            "84238/84238 - 98s - loss: 1.5003e-04\n",
            "Epoch 14/20\n",
            "84238/84238 - 97s - loss: 1.5047e-04\n",
            "Epoch 15/20\n",
            "84238/84238 - 96s - loss: 1.5079e-04\n",
            "Epoch 16/20\n",
            "84238/84238 - 98s - loss: 1.5049e-04\n",
            "Epoch 17/20\n",
            "84238/84238 - 97s - loss: 1.5075e-04\n",
            "Epoch 18/20\n",
            "84238/84238 - 96s - loss: 1.5098e-04\n",
            "Epoch 19/20\n",
            "84238/84238 - 96s - loss: 1.5058e-04\n",
            "Epoch 20/20\n",
            "84238/84238 - 96s - loss: 1.5043e-04\n"
          ]
        },
        {
          "output_type": "execute_result",
          "data": {
            "text/plain": [
              "<keras.callbacks.History at 0x7fbe594442d0>"
            ]
          },
          "metadata": {},
          "execution_count": 61
        }
      ]
    },
    {
      "cell_type": "code",
      "metadata": {
        "colab": {
          "base_uri": "https://localhost:8080/"
        },
        "id": "hxGL1nvdxbFh",
        "outputId": "5a2d8de5-0078-4056-ef25-6136a4e1a634"
      },
      "source": [
        "\"\"\"Once the model is fit, we can estimate the performance of the model on the train and test datasets. This will give us a point of comparison for new models.\n",
        "\n",
        "Note that we invert the predictions before calculating error scores to ensure that performance is \n",
        "reported in the same units as the original data (Stock Volume)\n",
        "\"\"\"\n",
        "\n",
        "# make predictions\n",
        "trainPredict = model.predict(trainX)\n",
        "testPredict = model.predict(testX)\n",
        "\n",
        "# calculate root mean squared error\n",
        "trainscore = math.sqrt(mean_squared_error(trainY, trainPredict))\n",
        "print('Train Score: %.10f RMSE' % (trainscore))\n",
        "testScore = math.sqrt(mean_squared_error(testY, testPredict))\n",
        "print('Test Score: %.10f RMSE' % (testScore))"
      ],
      "execution_count": null,
      "outputs": [
        {
          "output_type": "stream",
          "name": "stdout",
          "text": [
            "Train Score: 0.0120098050 RMSE\n",
            "Test Score: 0.0214047528 RMSE\n"
          ]
        }
      ]
    },
    {
      "cell_type": "code",
      "metadata": {
        "colab": {
          "base_uri": "https://localhost:8080/"
        },
        "id": "FF6qOEpjxbID",
        "outputId": "ac69b4f2-44ba-4115-a0b7-571c03ffc340"
      },
      "source": [
        "#R-Squared score for training dataset\n",
        "#rsquared =r2_score(trainY, trainPredict)\n",
        "#rsquared"
      ],
      "execution_count": null,
      "outputs": [
        {
          "output_type": "execute_result",
          "data": {
            "text/plain": [
              "0.591405235839739"
            ]
          },
          "metadata": {},
          "execution_count": 63
        }
      ]
    },
    {
      "cell_type": "code",
      "metadata": {
        "colab": {
          "base_uri": "https://localhost:8080/"
        },
        "id": "Urk8u87AXAEm",
        "outputId": "4acaea8f-948e-4f63-b4ce-8b5eef4dd399"
      },
      "source": [
        "#R-Squared score for testing dataset\n",
        "rsquared =r2_score(testY, testPredict)\n",
        "rsquared"
      ],
      "execution_count": null,
      "outputs": [
        {
          "output_type": "execute_result",
          "data": {
            "text/plain": [
              "0.5818189214836402"
            ]
          },
          "metadata": {},
          "execution_count": 64
        }
      ]
    }
  ]
}